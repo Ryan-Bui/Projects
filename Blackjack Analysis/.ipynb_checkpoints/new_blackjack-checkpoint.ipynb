{
 "cells": [
  {
   "cell_type": "code",
   "execution_count": 83,
   "id": "633ace19",
   "metadata": {},
   "outputs": [],
   "source": [
    "class base:\n",
    "    SILENT=6\n",
    "    DEBUG=1\n",
    "    INFO=2\n",
    "    WARNING=3\n",
    "    ERROR=4\n",
    "    CRITICAL=5\n",
    "    \n",
    "    def __init__(self,level=0):\n",
    "        self.level=level\n",
    "        \n",
    "    def message(self,level,*args):\n",
    "        if level >= self.level:\n",
    "            print(*args)\n",
    "        \n",
    "\n",
    "class Card(base):\n",
    "    __suits = [\"Clubs\", \"Diamonds\", \"Hearts\", \"Spades\", \"ShuffleCard\"]\n",
    "    __values = list(range(2,11)) + [ \"Jack\", \"Queen\", \"King\", \"Ace\"]\n",
    "\n",
    "    def __init__(self,suit,value=None):\n",
    "        base.__init__(self)\n",
    "        self.__suit = suit if suit in self.__suits else None\n",
    "        self.__value = value if value in self.__values else None\n",
    "        \n",
    "        if self.__suit is None:\n",
    "            self.message(self.ERROR, \"Error, bad suit:\",suit)\n",
    "\n",
    "        if self.__value is None and self.__suit != \"ShuffleCard\":\n",
    "            self.message(self.ERROR, \"Error, bad value:\",value)\n",
    "\n",
    "    def value(self):\n",
    "        return self.__value\n",
    "    \n",
    "    def suit(self):\n",
    "        return self.__suit\n",
    "    \n",
    "    def numerical_value(self):\n",
    "        # Special Handling of aces\n",
    "        if self.__value == \"Ace\":\n",
    "            return 1\n",
    "        elif self.__value in [ \"Jack\", \"Queen\", \"King\"]:\n",
    "            return 10\n",
    "        elif self.__value == None:\n",
    "            return 0\n",
    "        else:\n",
    "            return self.__value\n",
    "############################################################ code that I added in starts      \n",
    "    def same_suit_as(self,card):\n",
    "        if self.__suit == card.__suit:\n",
    "            return True\n",
    "        else:\n",
    "            return False\n",
    "    def same_value_as(self,card):\n",
    "        if self.__value == card.__value:\n",
    "            return True\n",
    "        else:\n",
    "            return False\n",
    "    def same_numerical_value_as(self,card):\n",
    "        if self.numerical_value() == card.numerical_value():\n",
    "            return True\n",
    "        else:\n",
    "            return False\n",
    "    def greater_numerical_value_as(self,card):\n",
    "        if self.numerical_value() < card.numerical_value():\n",
    "            return True\n",
    "        else:\n",
    "            return False\n",
    "\n",
    "    def __eq__(self,card):\n",
    "        if self.same_suit_as(card) and self.same_value_as(card) and self.same_numerical_value_as(card):\n",
    "            return True\n",
    "        else:\n",
    "            return False\n",
    "    \n",
    "    \n",
    "############################################################ code that I added in ends       \n",
    "        \n",
    "    def shuffle_card(self):\n",
    "        return self.__suit == \"ShuffleCard\"\n",
    "\n",
    "    def __str__(self):\n",
    "        if self.shuffle_card():\n",
    "            return \"Shuffle Card\"\n",
    "        else:\n",
    "            return str(self.__value) + \" of \" + self.__suit\n",
    "\n",
    "    __repr__ = __str__\n",
    "import numpy as np    \n",
    "import random\n",
    "############################################################ code that I added in starts      \n",
    "class CardFilterFunction:\n",
    "    def __init__(self):\n",
    "        pass\n",
    "    def __call__(self,card):\n",
    "        raise NotImplementedError\n",
    "\n",
    "class CheckSuit(CardFilterFunction):\n",
    "    def __init__(self,suit):\n",
    "        super().__init__()\n",
    "        self.__suit = suit\n",
    "        \n",
    "    def __call__(self,card):\n",
    "        if self.__suit == card.suit():\n",
    "            return True\n",
    "        else:\n",
    "            return False\n",
    "        \n",
    "\n",
    "class CheckValue(CardFilterFunction):\n",
    "    def __init__(self,val):\n",
    "        super().__init__()\n",
    "        self.__val = val\n",
    "        \n",
    "    def __call__(self,card):\n",
    "        if self.__val == card.value():\n",
    "            return True\n",
    "        else:\n",
    "            return False\n",
    "\n",
    "class CheckNumericalValue(CardFilterFunction):\n",
    "    def __init__(self,num_val):\n",
    "        super().__init__()\n",
    "        self.__num_val = num_val\n",
    "    def __call__(self,card):\n",
    "        if self.__num_val == card.numerical_value():\n",
    "            return True\n",
    "        else:\n",
    "            return False\n",
    "        \n",
    "class CheckGrNumericalValue(CardFilterFunction):\n",
    "    def __init__(self,num_val):\n",
    "        super().__init__()\n",
    "        self.__num_val = num_val\n",
    "        \n",
    "    def __call__(self,card):\n",
    "        #print(card.numerical_value())\n",
    "        if self.__num_val <= card.numerical_value():\n",
    "            return True\n",
    "        else:\n",
    "            return False\n",
    "        \n",
    "\n",
    "############################################################ code that I added in ends        \n",
    "class Deck(base):\n",
    "    __suits = [\"Clubs\", \"Diamonds\", \"Hearts\", \"Spades\"]\n",
    "    __values = list(range(2,11)) + [ \"Jack\", \"Queen\", \"King\", \"Ace\"]\n",
    "\n",
    "    def __init__(self,n_decks=6):\n",
    "        base.__init__(self)\n",
    "        self.__n_decks=n_decks\n",
    "        \n",
    "        self.__cards = list()\n",
    "        \n",
    "        for _ in range(self.__n_decks):\n",
    "            self.__cards.extend(self.__make_deck())            \n",
    "            \n",
    "        # TODO: Add logic to appropriately place shufflecard\n",
    "        self.__cards.append(Card(\"ShuffleCard\"))\n",
    "        \n",
    "    def __make_deck(self):\n",
    "        deck=list()\n",
    "        for suit in self.__suits:\n",
    "            for value in self.__values:\n",
    "                deck.append(Card(suit,value))\n",
    "        return deck\n",
    "    \n",
    "    def shuffle(self):\n",
    "        random.shuffle(self.__cards) \n",
    "        \n",
    "    def deal(self):\n",
    "        if len(self.__cards)>0:\n",
    "            return self.__cards.pop()\n",
    "        else:\n",
    "            for _ in range(self.__n_decks):\n",
    "                self.__cards.extend(self.__make_deck()) \n",
    "            self.shuffle()\n",
    "            return self.__cards.pop()\n",
    "############################################################ code that I added in starts    \n",
    "    def deal_poker_hand(self):\n",
    "        hand = []\n",
    "        for i in range(5):\n",
    "            if self.n_cards()>0:\n",
    "                hand.append(self.__cards.pop())\n",
    "            else:\n",
    "                for _ in range(self.__n_decks):\n",
    "                    self.__cards.extend(self.__make_deck()) \n",
    "                self.shuffle()\n",
    "                hand.append(self.__cards.pop())\n",
    "        return hand\n",
    "                \n",
    "    def deal_many_poker_hands(self,n):\n",
    "        hands = []\n",
    "        for i in range(n):\n",
    "            hands.append(self.deal_poker_hand())\n",
    "        return hands\n",
    "        \n",
    "    \n",
    "    def get_cards(self):\n",
    "        return self.__cards\n",
    "    \n",
    "    def n_cards(self):\n",
    "        return len(self.__cards)\n",
    "    \n",
    "    def empty_deck(self):\n",
    "        self.__cards = []\n",
    "        \n",
    "    def insert_cards(self,card):\n",
    "        self.__cards.append(card)\n",
    "        \n",
    "        \n",
    "    def copy(self):\n",
    "        copy_deck = Deck()\n",
    "        copy_deck.empty_deck()\n",
    "        for cards in self.__cards:\n",
    "            copy_deck.insert_cards(cards)\n",
    "        return copy_deck\n",
    "    \n",
    "    def filter(self,filter_function):\n",
    "        out_deck = Deck()\n",
    "        out_deck.empty_deck()\n",
    "        if type(filter_function) is Card:\n",
    "            for cards in self.__cards:\n",
    "                if cards == filter_function:\n",
    "                    out_deck.insert_cards(cards)\n",
    "            return out_deck\n",
    "        elif isinstance(filter_function,CardFilterFunction):\n",
    "            for cards in self.__cards:\n",
    "                if filter_function(cards):\n",
    "                    out_deck.insert_cards(cards)\n",
    "            return out_deck\n",
    "        elif isinstance(filter_function, Deck):\n",
    "            for cards in self.__cards:\n",
    "                if cards in filter_function.get_cards():\n",
    "                    out_deck.insert_cards(cards)\n",
    "            return out_deck\n",
    "        elif isinstance(filter_function, list):\n",
    "            for cards in self.__cards:\n",
    "                if cards in filter_function:\n",
    "                    out_deck.insert_cards(cards)\n",
    "            return out_deck\n",
    "            \n",
    "    def remove(self, filter_function):\n",
    "        _deck = Deck()\n",
    "        _deck.empty_deck()\n",
    "        if type(filter_function) is Card:\n",
    "            for cards in self.__cards:\n",
    "                if cards == filter_function:\n",
    "                    self.__cards.remove(cards)\n",
    "                    \n",
    "        elif isinstance(filter_function,CardFilterFunction):\n",
    "            for cards in self.__cards:\n",
    "                if not filter_function(cards):\n",
    "                    _deck.insert_cards(cards)\n",
    "            self.__cards = _deck.get_cards()\n",
    "                    \n",
    "                    \n",
    "        elif isinstance(filter_function, Deck):\n",
    "            for cards in self.__cards:\n",
    "                if cards not in filter_function.get_cards():\n",
    "                    _deck.insert_cards(cards)\n",
    "            self.__cards = _deck.get_cards()\n",
    "                    \n",
    "        elif isinstance(filter_function, list):\n",
    "            for cards in self.__cards:\n",
    "                if cards not in filter_function:\n",
    "                    _deck.insert_cards(cards)\n",
    "            self.__cards = _deck.get_cards()\n",
    "    def sub_deck(self, filter_function, remove=False):\n",
    "        out_deck = self.filter(filter_function)\n",
    "        if remove == True:\n",
    "            self.remove(filter_function)\n",
    "        return out_deck\n",
    "    def prob(self,condition):\n",
    "        total = self.n_cards()\n",
    "        _ = self.sub_deck(condition)\n",
    "        good_cards = _.n_cards()\n",
    "        try:\n",
    "            probability = good_cards/total\n",
    "        except ZeroDivisionError:\n",
    "            for _ in range(self.__n_decks):\n",
    "                self.__cards.extend(self.__make_deck()) \n",
    "            self.shuffle()\n",
    "            total = self.n_cards()\n",
    "            probability = good_cards/total\n",
    "        return probability       \n",
    "############################################################ code that I added in ends     \n",
    "\n",
    "def calc_hand_value(hand):\n",
    "    card_values = list(map(lambda card: card.numerical_value(),hand))\n",
    "\n",
    "    n_As= len(list(filter(lambda x: x==1,card_values)))\n",
    "    \n",
    "    hand_value = sum(card_values)\n",
    "\n",
    "    if n_As==0:\n",
    "        return hand_value\n",
    "    \n",
    "    # Case the last Ace is a 1\n",
    "    Ace_as_one = hand_value\n",
    "    Ace_as_eleven = hand_value+10\n",
    "    \n",
    "    if Ace_as_eleven<=21:\n",
    "        return Ace_as_eleven\n",
    "    else:\n",
    "        return Ace_as_one\n",
    "\n",
    "    \n",
    "class PlayerBase(base):\n",
    "    def __init__(self, name, n_chips):\n",
    "        base.__init__(self)\n",
    "        self.__name = name\n",
    "        self.__n_chips=n_chips\n",
    "    \n",
    "    def name(self):\n",
    "        return self.__name\n",
    "    \n",
    "    def chips(self):\n",
    "        return self.__n_chips\n",
    "    \n",
    "    def pay(self,value=2):\n",
    "        self.__n_chips+=value\n",
    "\n",
    "    def deduct(self,value=2):\n",
    "        # Logic to check if negative?\n",
    "        self.__n_chips-=value\n",
    "\n",
    "    def play_hand(self, down_card, up_cards, seen_cards ):\n",
    "        raise NotImplementedError\n",
    "        \n",
    "    def __str__(self):\n",
    "        return self.__name + \"(\"+ str(self.__n_chips) + \")\"\n",
    "    \n",
    "    __repr__=__str__\n",
    "    \n",
    "class DealerPlayer(PlayerBase):\n",
    "    def __init__(self,threshold=16):\n",
    "        self.__threshold = threshold\n",
    "        PlayerBase.__init__(self,\"Mr. Dealer\", 1000)\n",
    "\n",
    "    def play_hand(self, down_card, up_cards, seen_cards, deck):\n",
    "        hand_value = calc_hand_value([down_card] + up_cards)\n",
    "        return hand_value < self.__threshold\n",
    "        \n",
    "class ConsolePlayer(PlayerBase):\n",
    "    def play_hand(self, down_card, up_cards, seen_cards,deck):\n",
    "        print(\"Down Card:\", down_card)\n",
    "        print(\"Up Cards:\", up_cards)\n",
    "        print(\"Seen Cards:\", seen_cards)\n",
    "        hit_str= input(\"Hit(Y/N):\")\n",
    "        return hit_str.upper()==\"Y\"\n",
    "\n",
    "    \n",
    "class Strategy_1_Player(PlayerBase):\n",
    "    def play_hand(self, down_card, up_cards, seen_cards, deck):\n",
    "        return True\n",
    "############################################################ code that I added in starts\n",
    "class Strategy_2_Player(PlayerBase):\n",
    "    def __init__ (self, name, l_thresh=-2 , u_thresh=0):\n",
    "        PlayerBase.__init__(self,name,100)\n",
    "        self.l_thresh = l_thresh\n",
    "        self.u_thresh = u_thresh\n",
    "    \n",
    "    def play_hand(self, down_card, up_cards, seen_cards, deck):\n",
    "        hand = ([down_card] + up_cards)\n",
    "        counter = 0\n",
    "        for cards in hand:\n",
    "            if cards.numerical_value() >=2 and cards.numerical_value()<=6:\n",
    "                counter += 1\n",
    "            elif cards.numerical_value() >=7 and cards.numerical_value() <=9:\n",
    "                counter += 0\n",
    "            elif cards.numerical_value() == 10 and cards.numerical_value() == 1:\n",
    "                counter -= 1\n",
    "        if counter > self.u_thresh:\n",
    "            counter = 0\n",
    "            return True\n",
    "        elif counter <= self.l_thresh:\n",
    "            counter = 0\n",
    "            return False\n",
    "        \n",
    "class Strategy_3_Player(PlayerBase):\n",
    "    def __init__(self, name, chips,threshold=3):\n",
    "        self.threshold = threshold\n",
    "        PlayerBase.__init__(self, name, chips)\n",
    "    def play_hand(self, down_card, up_cards, seen_cards, deck):\n",
    "        counter = 0\n",
    "        for cards in seen_cards:\n",
    "            if cards.numerical_value() == 10:\n",
    "                counter += 1\n",
    "            \n",
    "        hand_value = calc_hand_value([down_card] + up_cards)\n",
    "        if hand_value <= 11:\n",
    "            return True\n",
    "        elif counter >= self.threshold:\n",
    "            return True\n",
    "        else:\n",
    "            return False\n",
    "        \n",
    "class Strategy_4_Player(PlayerBase):\n",
    "    def __init__(self, name, chips, threshold=0.5):\n",
    "        self.threshold = threshold\n",
    "        PlayerBase.__init__(self, name, chips)\n",
    "    def play_hand(self, down_card, up_cards, seen_cards, deck):\n",
    "        hand_value = calc_hand_value([down_card] + up_cards)\n",
    "        bust_threshold = 22-hand_value\n",
    "        sim_deck = deck.copy()\n",
    "        bust_prob = sim_deck.prob(CheckGrNumericalValue(bust_threshold))\n",
    "        if bust_prob >= self.threshold:\n",
    "            return False\n",
    "        else:\n",
    "            return True\n",
    "          \n",
    "############################################################ code that I added in ends        \n",
    "class DealerLikePlayer(PlayerBase):\n",
    "    def __init__(self,name,chips,threshold=16):\n",
    "        self.__threshold = threshold\n",
    "        PlayerBase.__init__(self,name, chips)\n",
    "\n",
    "    def play_hand(self, down_card, up_cards, seen_cards, deck):\n",
    "        hand_value = calc_hand_value([down_card] + up_cards)\n",
    "        return hand_value < self.__threshold\n",
    "\n",
    "\n",
    "    \n",
    "class Game(base):\n",
    "    def __init__(self,n_decks=6):\n",
    "        base.__init__(self,self.INFO)\n",
    "        self.__n_decks=n_decks\n",
    "        self.__players = list()\n",
    "        self.__all_players = list()\n",
    "        \n",
    "        self.__shuffle = False\n",
    "        \n",
    "        \n",
    "    def players(self):\n",
    "        return self.__players\n",
    "    \n",
    "    def all_players(self):\n",
    "        return self.__all_players\n",
    "\n",
    "    def add_player(self,player):\n",
    "        self.__players.append(player)\n",
    "        self.__all_players.append(player)\n",
    "\n",
    "    def deal_and_check_shuffle(self,deck):\n",
    "        card = deck.deal()\n",
    "        if card.shuffle_card():\n",
    "            shuffle=True\n",
    "            card = deck.deal()\n",
    "        return card\n",
    "    \n",
    "    def show_status(self,hands,seen_cards):\n",
    "        self.message(self.INFO,\"----------------------------------------------------------------\")\n",
    "        self.message(self.INFO,\"Hands:\",hands)\n",
    "        self.message(self.INFO,\"Seen Cards:\",seen_cards)\n",
    "        self.message(self.INFO,\"*************************************************\")\n",
    "        self.message(self.INFO,\"Players:\")\n",
    "        self.message(self.INFO,\"*************************************************\")\n",
    "        for i,player in enumerate(self.__all_players):\n",
    "            self.message(self.INFO,i,\":\",player)\n",
    "        self.message(self.INFO,\"----------------------------------------------------------------\")\n",
    "\n",
    "        \n",
    "    def play_game(self,n_hands):\n",
    "        # Create Dealer\n",
    "        self.add_player(DealerPlayer())\n",
    "        \n",
    "        deck = None\n",
    "        self.__shuffle = False\n",
    "        \n",
    "        # TODO: Check that all players have chips... \n",
    "        \n",
    "        for i_hand in range(n_hands):\n",
    "            \n",
    "            # Remove Players with no money\n",
    "            self.__players = list(filter(lambda player: player.chips()>=2,self.__players))\n",
    "            self.message(self.DEBUG,\"n players, n all players\",len(self.__players),len(self.__all_players))            \n",
    "            self.message(self.DEBUG,\"Starting Hand:\",i_hand,\"/\",n_hands)\n",
    "            # New Hand\n",
    "            \n",
    "            # Do we have a deck or have to shuffle?\n",
    "            if deck is None or self.__shuffle:\n",
    "                self.message(self.DEBUG,\"Creating New Deck / Shuffling\")\n",
    "                deck = Deck()\n",
    "                # Shuffle Cards\n",
    "                deck.shuffle()\n",
    "                seen_cards = list()\n",
    "                self.__shuffle=False\n",
    "\n",
    "            hands = list()\n",
    "\n",
    "            # Deal Each Players Hand\n",
    "            # Down card deal\n",
    "            self.message(self.DEBUG,\"Dealing Cards\")\n",
    "            for player_i,player in enumerate(self.__players):\n",
    "                down_card = self.deal_and_check_shuffle(deck)\n",
    "                up_cards = list()\n",
    "                hands.append((down_card,up_cards))\n",
    "                if player_i < len(self.__players)-1:\n",
    "                    seen_cards.append(down_card)\n",
    "                \n",
    "            # Up card deal\n",
    "            for (down_card,up_cards) in hands:\n",
    "                up_cards.append(self.deal_and_check_shuffle(deck))                \n",
    "                seen_cards.append(up_cards[-1])\n",
    "                \n",
    "            # TODO: Show hands...\n",
    "            self.show_status(hands,seen_cards)\n",
    "            \n",
    "            # Play\n",
    "            # Deals cards and asks players to hit/stay\n",
    "            \n",
    "            for player_i,((down_card,up_cards),player) in enumerate(zip(hands,self.__players)):\n",
    "                self.message(self.DEBUG,\"Asking Player\",player_i,\"to Play\")\n",
    "                self.message(self.DEBUG,\"Player\",player_i,\"hand total:\",calc_hand_value([down_card]+up_cards))\n",
    "                hit = True\n",
    "                this_hand_up_cards=list()\n",
    "                while(hit):\n",
    "                    hit = player.play_hand(down_card,up_cards,seen_cards,deck)\n",
    "\n",
    "                    if hit:\n",
    "                        self.message(self.DEBUG,\"Player\",player_i,\"Hit\")\n",
    "                        card = self.deal_and_check_shuffle(deck)\n",
    "                        up_cards.append(card)\n",
    "                        this_hand_up_cards.append(card)\n",
    "                        hand_value = calc_hand_value([down_card] + up_cards)\n",
    "                        self.message(self.DEBUG,\"Hand Value:\",hand_value)\n",
    "                        if hand_value < 21:\n",
    "                            hit = True\n",
    "                        else: \n",
    "                            hit = False\n",
    "                            if hand_value > 21:\n",
    "                                self.message(self.DEBUG,\"Player\",player_i,\"Busted\")     \n",
    "                            else:\n",
    "                                self.message(self.DEBUG,\"Player\",player_i,\"Got 21\")\n",
    "                    else:\n",
    "                        self.message(self.DEBUG,\"Player\",player_i,\"Stay\")\n",
    "\n",
    "                seen_cards.append(down_card)\n",
    "                seen_cards.extend(this_hand_up_cards)\n",
    "\n",
    "            # Pay:\n",
    "            # Compute the hand values\n",
    "            hand_values = [calc_hand_value([hand[0]]+hand[1]) for hand in hands]\n",
    "\n",
    "            self.message(self.DEBUG,\"Hand Values\",hand_values)\n",
    "            \n",
    "            # Determine who gets paid\n",
    "            if hand_values[-1]==21:\n",
    "                self.message(self.DEBUG,\"Dealer Got 21\")\n",
    "                for player_i,(hand_value,player) in enumerate(zip(hand_values[:-1],self.__players[:-1])):\n",
    "                    if hand_value==21:\n",
    "                        self.message(self.DEBUG,\"Player\",player_i,\"Got 21. Paying 3 chips.\")\n",
    "                        player.pay(3)\n",
    "                    else:\n",
    "                        self.message(self.DEBUG,\"Player\",player_i,\"Busted or dealer won. Deducting 2 chips.\")\n",
    "                        player.deduct(2)\n",
    "                    \n",
    "            if hand_values[-1]>21:        \n",
    "                self.message(self.DEBUG,\"Dealer Busted\")\n",
    "                for player_i,(hand_value,player) in enumerate(zip(hand_values[:-1],self.__players[:-1])):\n",
    "                    if hand_value==21:\n",
    "                        self.message(self.DEBUG,\"Player\",player_i,\"Got 21. Paying 3 chips.\")\n",
    "                        player.pay(3)\n",
    "                    elif hand_value>21:\n",
    "                        self.message(self.DEBUG,\"Player\",player_i,\"Busted. Deducting 2 chips.\")\n",
    "                        player.deduct(2)\n",
    "                    else:\n",
    "                        self.message(self.DEBUG,\"Player\",player_i,\"Paying 2 chips.\")\n",
    "                        player.pay(2)\n",
    "                        \n",
    "            if hand_values[-1]<21:\n",
    "                self.message(self.DEBUG,\"Dealer hand is:\",hand_values[-1])\n",
    "                for player_i,(hand_value,player) in enumerate(zip(hand_values[:-1],self.__players[:-1])):\n",
    "                    if hand_value==21:\n",
    "                        self.message(self.DEBUG,\"Player\",player_i,\"Got 21. Paying 3 chips.\")\n",
    "                        player.pay(3)\n",
    "                    elif hand_value>21:\n",
    "                        self.message(self.DEBUG,\"Player\",player_i,\"Busted. Deducting 2 chips.\")\n",
    "                        player.deduct(2)\n",
    "                    elif hand_value >  hand_values[-1]:\n",
    "                        self.message(self.DEBUG,\"Player\",player_i,\" hand was\",hand_value, \"versus Dealer hand\",\n",
    "                                     hand_values[-1],\"Paying 2 chips.\")\n",
    "                        player.pay(2)\n",
    "                    else:\n",
    "                        self.message(self.DEBUG,\"Player\",player_i,\" hand was\",hand_value, \"versus Dealer hand\",\n",
    "                                     hand_values[-1],\"Deducting 2 chips.\")\n",
    "                        player.deduct(2)\n"
   ]
  },
  {
   "cell_type": "code",
   "execution_count": null,
   "id": "3dd51ca6",
   "metadata": {},
   "outputs": [],
   "source": []
  },
  {
   "cell_type": "code",
   "execution_count": 22,
   "id": "59856ab8",
   "metadata": {},
   "outputs": [],
   "source": [
    "test_deck = Deck(1)\n",
    "test_deck.shuffle()\n",
    "test_deck.shuffle()\n"
   ]
  },
  {
   "cell_type": "code",
   "execution_count": 44,
   "id": "4ae48c91",
   "metadata": {},
   "outputs": [
    {
     "data": {
      "text/plain": [
       "[6 of Hearts, Jack of Clubs, 7 of Diamonds, 5 of Clubs, 10 of Clubs]"
      ]
     },
     "execution_count": 44,
     "metadata": {},
     "output_type": "execute_result"
    }
   ],
   "source": [
    "h = test_deck.deal_poker_hand()\n",
    "h"
   ]
  },
  {
   "cell_type": "code",
   "execution_count": 52,
   "id": "b6034e76",
   "metadata": {},
   "outputs": [],
   "source": [
    "Card1 = Card('Spades','King')\n",
    "Card2 = Card('Spades','King')\n",
    "Card3 = Card('Spades','King')\n",
    "Card4 = Card('Spades','King')\n",
    "Card5 = Card('Spades','King')\n",
    "hand = [Card1,Card2,Card3,Card4,Card5]"
   ]
  },
  {
   "cell_type": "code",
   "execution_count": 1,
   "id": "60ba89d8",
   "metadata": {},
   "outputs": [
    {
     "ename": "SyntaxError",
     "evalue": "invalid syntax (340140236.py, line 10)",
     "output_type": "error",
     "traceback": [
      "\u001b[0;36m  File \u001b[0;32m\"/tmp/ipykernel_302/340140236.py\"\u001b[0;36m, line \u001b[0;32m10\u001b[0m\n\u001b[0;31m    if values.count(val) > 2\u001b[0m\n\u001b[0m                            ^\u001b[0m\n\u001b[0;31mSyntaxError\u001b[0m\u001b[0;31m:\u001b[0m invalid syntax\n"
     ]
    }
   ],
   "source": [
    "def get_values(hand):\n",
    "    values = []\n",
    "    for cards in hand:\n",
    "        values.append(cards.value())\n",
    "    return values\n",
    "def check_for_pair(hand):\n",
    "    values = get_values(hand)\n",
    "    pair_cards = []\n",
    "    for val in values:\n",
    "        if values.count(val) > 2:\n",
    "            return True\n",
    "        else:\n",
    "            return False\n",
    "        \n",
    "                \n",
    "    "
   ]
  },
  {
   "cell_type": "code",
   "execution_count": 60,
   "id": "f1e7c8d9",
   "metadata": {},
   "outputs": [
    {
     "data": {
      "text/plain": [
       "['King',\n",
       " 'King',\n",
       " 'King',\n",
       " 'King',\n",
       " 'King',\n",
       " 'King',\n",
       " 'King',\n",
       " 'King',\n",
       " 'King',\n",
       " 'King']"
      ]
     },
     "execution_count": 60,
     "metadata": {},
     "output_type": "execute_result"
    }
   ],
   "source": [
    "_ = check_for_pair(hand)\n",
    "_"
   ]
  },
  {
   "cell_type": "code",
   "execution_count": 26,
   "id": "b370480d",
   "metadata": {},
   "outputs": [
    {
     "ename": "NameError",
     "evalue": "name 'f' is not defined",
     "output_type": "error",
     "traceback": [
      "\u001b[0;31m---------------------------------------------------------------------------\u001b[0m",
      "\u001b[0;31mNameError\u001b[0m                                 Traceback (most recent call last)",
      "\u001b[0;32m/tmp/ipykernel_88/2146492080.py\u001b[0m in \u001b[0;36m<module>\u001b[0;34m\u001b[0m\n\u001b[0;32m----> 1\u001b[0;31m \u001b[0mf\u001b[0m\u001b[0;34m(\u001b[0m\u001b[0mCard2\u001b[0m\u001b[0;34m)\u001b[0m\u001b[0;34m\u001b[0m\u001b[0;34m\u001b[0m\u001b[0m\n\u001b[0m",
      "\u001b[0;31mNameError\u001b[0m: name 'f' is not defined"
     ]
    }
   ],
   "source": [
    "f(Card2)\n"
   ]
  },
  {
   "cell_type": "code",
   "execution_count": 757,
   "id": "93fd4436",
   "metadata": {},
   "outputs": [],
   "source": [
    "t_deck = Deck(6)\n",
    "t_deck.n_cards()\n",
    "t_deck.shuffle()"
   ]
  },
  {
   "cell_type": "code",
   "execution_count": 686,
   "id": "80287ec8",
   "metadata": {},
   "outputs": [
    {
     "data": {
      "text/plain": [
       "8 of Hearts"
      ]
     },
     "execution_count": 686,
     "metadata": {},
     "output_type": "execute_result"
    }
   ],
   "source": [
    "Card1 = t_deck.deal()\n",
    "Card1"
   ]
  },
  {
   "cell_type": "code",
   "execution_count": 745,
   "id": "5e9fcf58",
   "metadata": {},
   "outputs": [
    {
     "data": {
      "text/plain": [
       "0.07692307692307693"
      ]
     },
     "execution_count": 745,
     "metadata": {},
     "output_type": "execute_result"
    }
   ],
   "source": [
    "t_deck.prob(CheckValue(Card1.value()))"
   ]
  },
  {
   "cell_type": "code",
   "execution_count": 92,
   "id": "686fdb73",
   "metadata": {},
   "outputs": [],
   "source": [
    "def play_a_round(n_hands=3):\n",
    "    my_game=Game(2)\n",
    "    my_game.level=Game.ERROR\n",
    "\n",
    "    my_game.add_player(Strategy_2_Player('Player 1',100))\n",
    "    my_game.add_player(Strategy_3_Player('Player 2',100))\n",
    "    my_game.add_player(Strategy_4_Player('Player 3',100))\n",
    "    my_game.add_player(Strategy_4_Player('Player 4',100,0.69))\n",
    "    my_game.add_player(Strategy_4_Player('Player 5',100,0.45))\n",
    "    my_game.add_player(Strategy_4_Player('Player 6',100,0.1))\n",
    "    my_game.add_player(DealerLikePlayer(\"Stays on 16\",100,16))\n",
    "    \n",
    "\n",
    "   \n",
    "\n",
    "\n",
    "    \n",
    "    my_game.play_game(n_hands)\n",
    "    \n",
    "    return [player.chips() for player in my_game.all_players()]"
   ]
  },
  {
   "cell_type": "code",
   "execution_count": 93,
   "id": "2abcf295",
   "metadata": {},
   "outputs": [],
   "source": [
    "def play_many_rounds(n_rounds=100,n_hands=50):\n",
    "    results = list()\n",
    "    \n",
    "    for i_round in range(n_rounds):\n",
    "        results.append(play_a_round(n_hands))\n",
    "        \n",
    "    return results"
   ]
  },
  {
   "cell_type": "code",
   "execution_count": 94,
   "id": "334b05a1",
   "metadata": {},
   "outputs": [],
   "source": [
    "results = play_many_rounds(1000)"
   ]
  },
  {
   "cell_type": "code",
   "execution_count": 95,
   "id": "1b64fb8e",
   "metadata": {},
   "outputs": [],
   "source": [
    "import numpy as np\n",
    "import matplotlib.pyplot as plt\n",
    "%matplotlib inline"
   ]
  },
  {
   "cell_type": "code",
   "execution_count": 96,
   "id": "82c451eb",
   "metadata": {},
   "outputs": [],
   "source": [
    "res = np.array(results)\n",
    "res = res [:,:-1]"
   ]
  },
  {
   "cell_type": "code",
   "execution_count": 97,
   "id": "fbb5883a",
   "metadata": {},
   "outputs": [
    {
     "data": {
      "image/png": "[encoded data removed]",
      "text/plain": [
       "<Figure size 432x288 with 1 Axes>"
      ]
     },
     "metadata": {
      "needs_background": "light"
     },
     "output_type": "display_data"
    }
   ],
   "source": [
    "for i in range(res.shape[1]):\n",
    "    plt.hist(res[:,i],label=\"Player \"+str(i),alpha=0.5)\n",
    "    \n",
    "plt.legend()\n",
    "plt.show()"
   ]
  },
  {
   "cell_type": "code",
   "execution_count": 98,
   "id": "11edd7cd",
   "metadata": {},
   "outputs": [],
   "source": [
    "m=np.mean(res,axis=0)"
   ]
  },
  {
   "cell_type": "code",
   "execution_count": 99,
   "id": "07c218a3",
   "metadata": {},
   "outputs": [
    {
     "data": {
      "text/plain": [
       "array([70.687, 38.107, 91.13 , 94.027, 90.147, 82.282, 93.7  ])"
      ]
     },
     "execution_count": 99,
     "metadata": {},
     "output_type": "execute_result"
    }
   ],
   "source": [
    "m"
   ]
  },
  {
   "cell_type": "code",
   "execution_count": 855,
   "id": "937f8b94",
   "metadata": {},
   "outputs": [],
   "source": [
    "s=np.std(res,axis=0)"
   ]
  },
  {
   "cell_type": "code",
   "execution_count": 856,
   "id": "1e10dc8f",
   "metadata": {},
   "outputs": [
    {
     "data": {
      "text/plain": [
       "array([14.72459168, 12.39434565, 15.15055101, 14.67109212])"
      ]
     },
     "execution_count": 856,
     "metadata": {},
     "output_type": "execute_result"
    }
   ],
   "source": [
    "s"
   ]
  },
  {
   "cell_type": "code",
   "execution_count": 783,
   "id": "886ff41c",
   "metadata": {},
   "outputs": [
    {
     "data": {
      "text/plain": [
       "<ErrorbarContainer object of 3 artists>"
      ]
     },
     "execution_count": 783,
     "metadata": {},
     "output_type": "execute_result"
    },
    {
     "data": {
      "image/png": "[encoded data removed]",
      "text/plain": [
       "<Figure size 432x288 with 1 Axes>"
      ]
     },
     "metadata": {
      "needs_background": "light"
     },
     "output_type": "display_data"
    }
   ],
   "source": [
    "plt.errorbar(range(len(m)),m,s)"
   ]
  },
  {
   "cell_type": "code",
   "execution_count": 746,
   "id": "1304d949",
   "metadata": {},
   "outputs": [
    {
     "name": "stdout",
     "output_type": "stream",
     "text": [
      "2\n"
     ]
    },
    {
     "data": {
      "text/plain": [
       "False"
      ]
     },
     "execution_count": 746,
     "metadata": {},
     "output_type": "execute_result"
    }
   ],
   "source": [
    "f = CheckGrNumericalValue(8)\n",
    "f(Card3)"
   ]
  },
  {
   "cell_type": "code",
   "execution_count": 571,
   "id": "93bf7d77",
   "metadata": {},
   "outputs": [
    {
     "data": {
      "text/plain": [
       "[2, 2, 2, 3]"
      ]
     },
     "execution_count": 571,
     "metadata": {},
     "output_type": "execute_result"
    }
   ],
   "source": [
    "list1"
   ]
  },
  {
   "cell_type": "code",
   "execution_count": 574,
   "id": "ae74c6db",
   "metadata": {},
   "outputs": [],
   "source": []
  },
  {
   "cell_type": "code",
   "execution_count": 575,
   "id": "4ba63e76",
   "metadata": {},
   "outputs": [
    {
     "data": {
      "text/plain": [
       "[2, 3]"
      ]
     },
     "execution_count": 575,
     "metadata": {},
     "output_type": "execute_result"
    }
   ],
   "source": [
    "list1"
   ]
  },
  {
   "cell_type": "code",
   "execution_count": 765,
   "id": "8c1041dd",
   "metadata": {},
   "outputs": [],
   "source": [
    "d = t_deck.prob(CheckGrNumericalValue(5))"
   ]
  },
  {
   "cell_type": "code",
   "execution_count": 749,
   "id": "8f459e40",
   "metadata": {},
   "outputs": [
    {
     "name": "stdout",
     "output_type": "stream",
     "text": [
      "Jack of Spades\n",
      "Jack of Diamonds\n",
      "Queen of Clubs\n",
      "Queen of Spades\n",
      "King of Spades\n",
      "Jack of Spades\n",
      "Jack of Spades\n",
      "Jack of Clubs\n",
      "Jack of Hearts\n",
      "Jack of Diamonds\n",
      "King of Clubs\n",
      "Jack of Spades\n",
      "10 of Diamonds\n",
      "Queen of Clubs\n",
      "10 of Spades\n",
      "10 of Hearts\n",
      "Jack of Clubs\n",
      "King of Spades\n",
      "10 of Hearts\n",
      "King of Clubs\n",
      "King of Clubs\n",
      "10 of Clubs\n",
      "Queen of Clubs\n",
      "King of Hearts\n",
      "10 of Hearts\n",
      "King of Diamonds\n",
      "King of Diamonds\n",
      "Queen of Spades\n",
      "Queen of Hearts\n",
      "10 of Spades\n",
      "Queen of Diamonds\n",
      "King of Hearts\n",
      "King of Diamonds\n",
      "10 of Diamonds\n",
      "10 of Spades\n",
      "Jack of Hearts\n",
      "Queen of Spades\n",
      "10 of Spades\n",
      "Jack of Spades\n",
      "Queen of Hearts\n",
      "10 of Diamonds\n",
      "Jack of Clubs\n",
      "10 of Diamonds\n",
      "Jack of Diamonds\n",
      "Jack of Hearts\n",
      "Queen of Spades\n",
      "Queen of Spades\n",
      "Queen of Diamonds\n",
      "King of Clubs\n",
      "Jack of Hearts\n",
      "Queen of Hearts\n",
      "King of Spades\n",
      "Queen of Hearts\n",
      "King of Diamonds\n",
      "Jack of Diamonds\n",
      "King of Diamonds\n",
      "10 of Hearts\n",
      "10 of Spades\n",
      "King of Hearts\n",
      "10 of Hearts\n",
      "10 of Clubs\n",
      "Jack of Diamonds\n",
      "10 of Diamonds\n",
      "King of Spades\n",
      "Queen of Diamonds\n",
      "Jack of Clubs\n",
      "Jack of Clubs\n",
      "10 of Clubs\n",
      "Jack of Hearts\n",
      "King of Hearts\n",
      "Queen of Hearts\n",
      "Jack of Hearts\n",
      "King of Clubs\n",
      "10 of Clubs\n",
      "Jack of Spades\n",
      "Queen of Clubs\n",
      "King of Hearts\n",
      "Jack of Clubs\n",
      "King of Spades\n",
      "Queen of Clubs\n",
      "King of Hearts\n",
      "King of Diamonds\n",
      "King of Spades\n",
      "10 of Clubs\n",
      "Queen of Spades\n",
      "Jack of Diamonds\n",
      "10 of Hearts\n",
      "King of Clubs\n",
      "Queen of Clubs\n",
      "Queen of Diamonds\n",
      "Queen of Diamonds\n",
      "Queen of Diamonds\n",
      "10 of Clubs\n",
      "10 of Diamonds\n",
      "Queen of Hearts\n",
      "10 of Spades\n"
     ]
    }
   ],
   "source": [
    "for cards in d.get_cards():\n",
    "    print(cards)\n",
    "    "
   ]
  },
  {
   "cell_type": "code",
   "execution_count": 766,
   "id": "5e6bfbe4",
   "metadata": {},
   "outputs": [
    {
     "data": {
      "text/plain": [
       "0.6923076923076923"
      ]
     },
     "execution_count": 766,
     "metadata": {},
     "output_type": "execute_result"
    }
   ],
   "source": [
    "d"
   ]
  },
  {
   "cell_type": "code",
   "execution_count": null,
   "id": "159862ab",
   "metadata": {},
   "outputs": [],
   "source": []
  }
 ],
 "metadata": {
  "kernelspec": {
   "display_name": "Python 3 (ipykernel)",
   "language": "python",
   "name": "python3"
  },
  "language_info": {
   "codemirror_mode": {
    "name": "ipython",
    "version": 3
   },
   "file_extension": ".py",
   "mimetype": "text/x-python",
   "name": "python",
   "nbconvert_exporter": "python",
   "pygments_lexer": "ipython3",
   "version": "3.8.10"
  }
 },
 "nbformat": 4,
 "nbformat_minor": 5
}
