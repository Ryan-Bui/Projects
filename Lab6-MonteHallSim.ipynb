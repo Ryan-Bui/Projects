{
 "cells": [
  {
   "cell_type": "markdown",
   "id": "84e5d7b1",
   "metadata": {},
   "source": [
    "## Exercise 1\n",
    "Write a game_setup function that does the following:\n",
    "\n",
    "1. Creates a numpy array representing the 3 doors\n",
    "2. Creates a numpy array representing the prizes (0 for goat and 1 for car). You should randomly choose one of the elements of the prize array to be a car and the others should be goats.\n",
    "3. Your function should return the arrays of doors and prizes"
   ]
  },
  {
   "cell_type": "code",
   "execution_count": 1,
   "id": "469179d5",
   "metadata": {},
   "outputs": [],
   "source": [
    "import numpy as np "
   ]
  },
  {
   "cell_type": "code",
   "execution_count": 2,
   "id": "ab418d82",
   "metadata": {},
   "outputs": [],
   "source": [
    "def game_setup():\n",
    "    doors = np.array([1,2,3])\n",
    "    prizes = np.array([0,0,1])\n",
    "    rand_prizes = np.random.choice((prizes),3,replace=False)\n",
    "    assigned_prizes = np.array(list(zip(doors,rand_prizes)))\n",
    "    return assigned_prizes\n",
    "    "
   ]
  },
  {
   "cell_type": "code",
   "execution_count": 3,
   "id": "798ce28c",
   "metadata": {},
   "outputs": [
    {
     "data": {
      "text/plain": [
       "array([[1, 1],\n",
       "       [2, 0],\n",
       "       [3, 0]])"
      ]
     },
     "execution_count": 3,
     "metadata": {},
     "output_type": "execute_result"
    }
   ],
   "source": [
    "game_setup()"
   ]
  },
  {
   "cell_type": "code",
   "execution_count": null,
   "id": "26d46b66",
   "metadata": {},
   "outputs": [],
   "source": []
  },
  {
   "cell_type": "markdown",
   "id": "88ae5fd8",
   "metadata": {},
   "source": [
    "## Exercise 2\n",
    "Write a function choose_door that asks the user to input an integer 1,2,3 to choose a door and returns the door they chose. You should catch any errors that the user might make and continue asking for input until the user inputs a valid choice."
   ]
  },
  {
   "cell_type": "code",
   "execution_count": 5,
   "id": "afaec545",
   "metadata": {},
   "outputs": [],
   "source": [
    "def choose_door():\n",
    "    valid_input = False\n",
    "    while valid_input == False:\n",
    "        door_choice = input(\"Which door would you like to choose?  \")\n",
    "        if door_choice != ('1') and door_choice != ('2') and door_choice != ('3'):\n",
    "            print(\"Error: Must choose doors 1,2, or 3\")\n",
    "        else:\n",
    "            choice = int(door_choice)\n",
    "            break\n",
    "   \n",
    "\n",
    "    return print(\"You have chosen door number\",choice,\"!\")\n",
    "    "
   ]
  },
  {
   "cell_type": "code",
   "execution_count": 6,
   "id": "cc08eeb6",
   "metadata": {},
   "outputs": [
    {
     "name": "stdout",
     "output_type": "stream",
     "text": [
      "Which door would you like to choose?  \n",
      "Error: Must choose doors 1,2, or 3\n",
      "Which door would you like to choose?  \n",
      "Error: Must choose doors 1,2, or 3\n",
      "Which door would you like to choose?  \n",
      "Error: Must choose doors 1,2, or 3\n",
      "Which door would you like to choose?  \n",
      "Error: Must choose doors 1,2, or 3\n",
      "Which door would you like to choose?  \n",
      "Error: Must choose doors 1,2, or 3\n",
      "Which door would you like to choose?  \n",
      "Error: Must choose doors 1,2, or 3\n",
      "Which door would you like to choose?  1\n",
      "You have chosen door number 1 !\n"
     ]
    }
   ],
   "source": [
    "choose_door()"
   ]
  },
  {
   "cell_type": "code",
   "execution_count": null,
   "id": "e69ee9b5",
   "metadata": {},
   "outputs": [],
   "source": []
  },
  {
   "cell_type": "markdown",
   "id": "ab3f8ba4",
   "metadata": {},
   "source": [
    "## Exercise 3\n",
    "Write a function switch_stay that asks the user if they want to switch to the remaining door or stay with their original choice. Catch any errors and continue asking for input until the user inputs a valid choice."
   ]
  },
  {
   "cell_type": "code",
   "execution_count": 4,
   "id": "a430c554",
   "metadata": {},
   "outputs": [],
   "source": [
    "\n",
    "\n",
    "def game_setup_new():\n",
    "    doors = np.array([1,2,3])\n",
    "    prizes = np.array([0,0,1])\n",
    "    rand_prizes = np.random.choice((prizes),3,replace=False)\n",
    "    assigned_prizes = np.array(list(zip(doors,rand_prizes)))\n",
    "    return assigned_prizes\n",
    "    \n",
    "def switch_stay():\n",
    "    choice = None\n",
    "    assigned_prizes = game_setup_new()\n",
    "    \n",
    "    valid_input = False\n",
    "    while valid_input == False:\n",
    "        door_choice = input(\"Which door would you like to choose?  \")\n",
    "        if door_choice != ('1') and door_choice != ('2') and door_choice != ('3'):\n",
    "            print(\"Error: Must choose doors 1,2, or 3\")\n",
    "            False\n",
    "        else:\n",
    "            True\n",
    "            break\n",
    "            \n",
    "    \n",
    "    index = int(door_choice)\n",
    "    possible_reveal_index = index - 1\n",
    "            \n",
    "            \n",
    "    if index == 1:\n",
    "        choice = assigned_prizes[0]\n",
    "    elif index == 2:\n",
    "        choice = assigned_prizes[1]\n",
    "    elif index == 3:\n",
    "        choice = assigned_prizes[2]\n",
    "\n",
    "    print(\"You have chosen door number\",index,\"!\")\n",
    "        \n",
    "    ## revealing a door\n",
    "    possible_reveals = np.delete(assigned_prizes,possible_reveal_index,axis=0)\n",
    "    ##print(possible_reveals)\n",
    "    bad_doors = np.empty((0, 2), int)\n",
    "    \n",
    "    \n",
    "    for i in range(len(possible_reveals)):\n",
    "            if possible_reveals[i][1] == 0:\n",
    "                bad_doors = np.append(bad_doors, np.array([possible_reveals[i]]),axis = 0)\n",
    "            \n",
    "    revealed_door = bad_doors[np.random.choice(bad_doors.shape[0], 1 ,replace = False), :]\n",
    "    \n",
    "    print('Door Number',revealed_door[0][0],'has been revealed to have a goat!')\n",
    "    \n",
    "    revealed_door_index = revealed_door[0][0]-1\n",
    "    #print(revealed_door[0])\n",
    "   \n",
    "    choice_index = choice[0]-1\n",
    "    #print(choice)\n",
    "    \n",
    "\n",
    "    possible_switches = np.delete(assigned_prizes,[choice_index,revealed_door_index],axis = 0)\n",
    "    #print(possible_switches)\n",
    "        \n",
    "    \n",
    "        \n",
    "    print(\"You can now switch to door number\",possible_switches[0][0],'!')\n",
    "    \n",
    "    \n",
    "    \n",
    "    ## Switch doors\n",
    "    valid_decision = False\n",
    "    while valid_decision == False:\n",
    "        switch_decision = input('Would you like to switch or stay?  ')\n",
    "        if switch_decision != ('switch') and switch_decision != ('stay'):\n",
    "            print('Error: Must either choose switch or stay.')\n",
    "        elif switch_decision == ('switch'):\n",
    "            choice = possible_switches[0]\n",
    "            print('Your door is now number',choice[0],'!')\n",
    "            break\n",
    "        elif switch_decision == ('stay'):\n",
    "            print('Your door is still number',index,'!')\n",
    "            break\n",
    "        \n",
    "   \n",
    "\n",
    "    \n",
    "\n",
    "    \n"
   ]
  },
  {
   "cell_type": "code",
   "execution_count": 8,
   "id": "de169256",
   "metadata": {},
   "outputs": [
    {
     "name": "stdout",
     "output_type": "stream",
     "text": [
      "Which door would you like to choose?  stay\n",
      "Error: Must choose doors 1,2, or 3\n",
      "Which door would you like to choose?  \n",
      "Error: Must choose doors 1,2, or 3\n",
      "Which door would you like to choose?  \n",
      "Error: Must choose doors 1,2, or 3\n",
      "Which door would you like to choose?  1\n",
      "You have chosen door number 1 !\n",
      "Door Number 2 has been revealed to have a goat!\n",
      "You can now switch to door number 3 !\n",
      "Would you like to switch or stay?  \n",
      "Error: Must either choose switch or stay.\n",
      "Would you like to switch or stay?  stay\n",
      "Your door is still number 1 !\n"
     ]
    }
   ],
   "source": [
    "switch_stay()"
   ]
  },
  {
   "cell_type": "markdown",
   "id": "dcb09003",
   "metadata": {},
   "source": [
    "## Exercise 4\n",
    "Write a Monte Hall game simulator that introduces the game and proceeds in the steps given in the introduction. After step 4, your function (the host) should tell the player if they won the car! or got the goat :-(\n",
    "\n",
    "1. Be sure to add print statements with appropriate messages to update the player on the status of the game\n",
    "2. In the step where the host reveals a door with a goat behind it, your host should randomly choose from the remaining doors that have goats behind them\n",
    "3. Test your function 3 times in the cells below\n",
    "           \n",
    "        \n",
    "        \n",
    "   "
   ]
  },
  {
   "cell_type": "code",
   "execution_count": 5,
   "id": "cbd8b569",
   "metadata": {},
   "outputs": [],
   "source": [
    "def monte_hall_sim():\n",
    "    choice = None\n",
    "    assigned_prizes = game_setup_new()\n",
    "    \n",
    "    valid_input = False\n",
    "    while valid_input == False:\n",
    "        door_choice = input(\"Which door would you like to choose?  \")\n",
    "        if door_choice != ('1') and door_choice != ('2') and door_choice != ('3'):\n",
    "            print(\"Error: Must choose doors 1,2, or 3\")\n",
    "            False\n",
    "        else:\n",
    "            True\n",
    "            break\n",
    "            \n",
    "    \n",
    "    index = int(door_choice)\n",
    "    possible_reveal_index = index - 1\n",
    "            \n",
    "            \n",
    "    if index == 1:\n",
    "        choice = assigned_prizes[0]\n",
    "    elif index == 2:\n",
    "        choice = assigned_prizes[1]\n",
    "    elif index == 3:\n",
    "        choice = assigned_prizes[2]\n",
    "\n",
    "    print(\"You have chosen door number\",index,\"!\")\n",
    "        \n",
    "    ## revealing a door\n",
    "    possible_reveals = np.delete(assigned_prizes,possible_reveal_index,axis=0)\n",
    "    ##print(possible_reveals)\n",
    "    bad_doors = np.empty((0, 2), int)\n",
    "    \n",
    "    \n",
    "    for i in range(len(possible_reveals)):\n",
    "            if possible_reveals[i][1] == 0:\n",
    "                bad_doors = np.append(bad_doors, np.array([possible_reveals[i]]),axis = 0)\n",
    "            \n",
    "    revealed_door = bad_doors[np.random.choice(bad_doors.shape[0], 1 ,replace = False), :]\n",
    "    \n",
    "    print('Door Number',revealed_door[0][0],'has been revealed to have a goat!')\n",
    "    \n",
    "    revealed_door_index = revealed_door[0][0]-1\n",
    "    #print(revealed_door[0])\n",
    "   \n",
    "    choice_index = choice[0]-1\n",
    "    #print(choice)\n",
    "    \n",
    "\n",
    "    possible_switches = np.delete(assigned_prizes,[choice_index,revealed_door_index],axis = 0)\n",
    "    #print(possible_switches)\n",
    "        \n",
    "    \n",
    "        \n",
    "    print(\"You can now switch to door number\",possible_switches[0][0],'!')\n",
    "    \n",
    "    \n",
    "    \n",
    "    ## Switch doors\n",
    "    valid_decision = False\n",
    "    while valid_decision == False:\n",
    "        switch_decision = input('Would you like to switch or stay?  ')\n",
    "        if switch_decision != ('switch') and switch_decision != ('stay'):\n",
    "            print('Error: Must either choose switch or stay.')\n",
    "        elif switch_decision == ('switch'):\n",
    "            choice = possible_switches[0]\n",
    "            print('Your door is now number',choice[0],'!')\n",
    "            break\n",
    "        elif switch_decision == ('stay'):\n",
    "            print('Your door is still number',index,'!')\n",
    "            break\n",
    "    #print(choice)\n",
    "    if choice[1] == 1:\n",
    "        print('Congratulations! You won a brand new Car!')\n",
    "    elif choice[1] == 0:\n",
    "        print('Sorry, you chose the goat. Try again next time!')"
   ]
  },
  {
   "cell_type": "code",
   "execution_count": 6,
   "id": "1462b0f2",
   "metadata": {},
   "outputs": [
    {
     "name": "stdout",
     "output_type": "stream",
     "text": [
      "Which door would you like to choose?  2\n",
      "You have chosen door number 2 !\n",
      "Door Number 1 has been revealed to have a goat!\n",
      "You can now switch to door number 3 !\n",
      "Would you like to switch or stay?  switch\n",
      "Your door is now number 3 !\n",
      "Congratulations! You won a brand new Car!\n"
     ]
    }
   ],
   "source": [
    "monte_hall_sim()"
   ]
  },
  {
   "cell_type": "code",
   "execution_count": 109,
   "id": "4314a9eb",
   "metadata": {},
   "outputs": [
    {
     "name": "stdout",
     "output_type": "stream",
     "text": [
      "Which door would you like to choose?  1\n",
      "You have chosen door number 1 !\n",
      "Door Number 3 has been revealed to have a goat!\n",
      "You can now switch to door number 2 !\n",
      "Would you like to switch or stay?  switch\n",
      "Your door is now number 2 !\n",
      "Congratulations! You won a brand new Car!\n"
     ]
    }
   ],
   "source": [
    "monte_hall_sim()"
   ]
  },
  {
   "cell_type": "code",
   "execution_count": 23,
   "id": "4be9c5e9",
   "metadata": {},
   "outputs": [
    {
     "name": "stdout",
     "output_type": "stream",
     "text": [
      "Which door would you like to choose?  1\n",
      "You have chosen door number 1 !\n",
      "Door Number 3 has been revealed to have a goat!\n",
      "You can now switch to door number 2 !\n",
      "Would you like to switch or stay?  stay\n",
      "Your door is still number 1 !\n",
      "Sorry, you chose the goat. Try again next time!\n"
     ]
    }
   ],
   "source": [
    "monte_hall_sim()"
   ]
  },
  {
   "cell_type": "markdown",
   "id": "79eee743",
   "metadata": {},
   "source": [
    "## Exercise 5\n",
    "Modify your function from Exercise 4 to run a Monte Hall game automatically without any user input.\n",
    "\n",
    "1. Your function should have a Boolean variable switch whose default value is True, and indicates that the player will choose to switch (if True) or stay (if False)\n",
    "2. Your player door should randomly chosen for step 1 of the game\n",
    "3. Your function should output 1 if the player wins the car and 0 if the player gets the goat\n",
    "4. Your function should suppress any print statements from that in Exercise 4"
   ]
  },
  {
   "cell_type": "code",
   "execution_count": 218,
   "id": "97361603",
   "metadata": {},
   "outputs": [],
   "source": [
    "bools = [True, False]\n",
    "rand_bools = np.random.choice(bools,1)\n",
    "def auto_mhall_sim():\n",
    "    choice = None\n",
    "    assigned_prizes = game_setup_new()\n",
    "    door_choice = assigned_prizes[np.random.choice(assigned_prizes.shape[0], 1 ,replace = False), :]\n",
    "    #door_choice = np.random.randint(2, size=1) \n",
    "    \n",
    "    index = int(door_choice[0][0])\n",
    "    possible_reveal_index = index - 1\n",
    "            \n",
    "            \n",
    "    if index == 1:\n",
    "        choice = assigned_prizes[0]\n",
    "    elif index == 2:\n",
    "        choice = assigned_prizes[1]\n",
    "    elif index == 3:\n",
    "        choice = assigned_prizes[2]\n",
    "\n",
    "    #print(\"You have chosen door number\",index,\"!\")\n",
    "        \n",
    "    ## revealing a door\n",
    "    possible_reveals = np.delete(assigned_prizes,possible_reveal_index,axis=0)\n",
    "    ##print(possible_reveals)\n",
    "    bad_doors = np.empty((0, 2), int)\n",
    "    \n",
    "    \n",
    "    for i in range(len(possible_reveals)):\n",
    "            if possible_reveals[i][1] == 0:\n",
    "                bad_doors = np.append(bad_doors, np.array([possible_reveals[i]]),axis = 0)\n",
    "            \n",
    "    revealed_door = bad_doors[np.random.choice(bad_doors.shape[0], 1 ,replace = False), :]\n",
    "    \n",
    "    #print('Door Number',revealed_door[0][0],'has been revealed to have a goat!')\n",
    "    \n",
    "    revealed_door_index = revealed_door[0][0]-1\n",
    "    #print(revealed_door[0])\n",
    "   \n",
    "    choice_index = choice[0]-1\n",
    "    #print(choice)\n",
    "    \n",
    "\n",
    "    possible_switches = np.delete(assigned_prizes,[choice_index,revealed_door_index],axis = 0)\n",
    "    #print(possible_switches)\n",
    "        \n",
    "    \n",
    "        \n",
    "    #print(\"You can now switch to door number\",possible_switches[0][0],'!')\n",
    "    \n",
    "    \n",
    "    \n",
    "    ## Switch doors\n",
    "    valid_decision = False\n",
    "    while valid_decision == False:\n",
    "        switch_decision = True\n",
    "        \n",
    "        if switch_decision == True:\n",
    "            choice = possible_switches[0]\n",
    "            #print('Your door is now number',choice[0],'!')\n",
    "            break\n",
    "        elif switch_decision == False:\n",
    "            #print('Your door is still number',index,'!')\n",
    "            break\n",
    "    #print(choice)\n",
    "    if choice[1] == 1:\n",
    "        return 1\n",
    "        #print('Congratulations! You won a brand new Car!')\n",
    "    elif choice[1] == 0:\n",
    "        return 0\n",
    "        #print('Sorry, you chose the goat. Try again next time!')  "
   ]
  },
  {
   "cell_type": "code",
   "execution_count": 229,
   "id": "31e6058f",
   "metadata": {},
   "outputs": [
    {
     "data": {
      "text/plain": [
       "1"
      ]
     },
     "execution_count": 229,
     "metadata": {},
     "output_type": "execute_result"
    }
   ],
   "source": [
    "auto_mhall_sim()"
   ]
  },
  {
   "cell_type": "markdown",
   "id": "2b5f2195",
   "metadata": {},
   "source": [
    "## Exercise 6\n",
    "1. Write a script that specifies a number of trials num_trials=100, runs your automatic Monte Hall simulator from Exercise 5 with switch=True, num_trials times and stores the output as an ndarray\n",
    "2. Repeat the process from step 1 num_trials times. Note you can do these 2 steps in a nested for loop -- create a numpy array of size (num_trials,num_trials) with each entry initialized to 0, and for each [i,j] entry, capture the output of your Monte Hall simulator\n",
    "3. Sum your numpy array from step 2 along the row axis (meaning add all elements of a given column together) to obtain an array where each entry captures how many times the player won out of num_trials games. Call this array winners.\n",
    "4. Using pyplots hist command (see Probability lecture), plot a histogram of the winners array from the previous step with 15 bins and range being the minimum of winners to the maximum of winners\n",
    "5. Also report the min, max, mean, median, and standard deviation of winners\n",
    "6. Repeat Steps 1--5 for switch=False (i.e., the player choosing to stay)"
   ]
  },
  {
   "cell_type": "code",
   "execution_count": 19,
   "id": "211a04fa",
   "metadata": {},
   "outputs": [],
   "source": [
    "def auto_mhall_sim():\n",
    "    choice = None\n",
    "    assigned_prizes = game_setup_new()\n",
    "    door_choice = assigned_prizes[np.random.choice(assigned_prizes.shape[0], 1 ,replace = False), :]\n",
    "    #door_choice = np.random.randint(2, size=1) \n",
    "    \n",
    "    index = int(door_choice[0][0])\n",
    "    possible_reveal_index = index - 1\n",
    "            \n",
    "            \n",
    "    if index == 1:\n",
    "        choice = assigned_prizes[0]\n",
    "    elif index == 2:\n",
    "        choice = assigned_prizes[1]\n",
    "    elif index == 3:\n",
    "        choice = assigned_prizes[2]\n",
    "\n",
    "    #print(\"You have chosen door number\",index,\"!\")\n",
    "        \n",
    "    ## revealing a door\n",
    "    possible_reveals = np.delete(assigned_prizes,possible_reveal_index,axis=0)\n",
    "    ##print(possible_reveals)\n",
    "    bad_doors = np.empty((0, 2), int)\n",
    "    \n",
    "    \n",
    "    for i in range(len(possible_reveals)):\n",
    "            if possible_reveals[i][1] == 0:\n",
    "                bad_doors = np.append(bad_doors, np.array([possible_reveals[i]]),axis = 0)\n",
    "            \n",
    "    revealed_door = bad_doors[np.random.choice(bad_doors.shape[0], 1 ,replace = False), :]\n",
    "    \n",
    "    #print('Door Number',revealed_door[0][0],'has been revealed to have a goat!')\n",
    "    \n",
    "    revealed_door_index = revealed_door[0][0]-1\n",
    "    #print(revealed_door[0])\n",
    "   \n",
    "    choice_index = choice[0]-1\n",
    "    #print(choice)\n",
    "    \n",
    "\n",
    "    possible_switches = np.delete(assigned_prizes,[choice_index,revealed_door_index],axis = 0)\n",
    "    #print(possible_switches)\n",
    "        \n",
    "    \n",
    "        \n",
    "    #print(\"You can now switch to door number\",possible_switches[0][0],'!')\n",
    "    \n",
    "    \n",
    "    \n",
    "    ## Switch doors\n",
    "    valid_decision = False\n",
    "    while valid_decision == False:\n",
    "        switch_decision = True\n",
    "        \n",
    "        if switch_decision == True:\n",
    "            choice = possible_switches[0]\n",
    "            #print('Your door is now number',choice[0],'!')\n",
    "            break\n",
    "        elif switch_decision == False:\n",
    "            #print('Your door is still number',index,'!')\n",
    "            break\n",
    "    #print(choice)\n",
    "    if choice[1] == 1:\n",
    "        return 1\n",
    "        #print('Congratulations! You won a brand new Car!')\n",
    "    elif choice[1] == 0:\n",
    "        return 0\n",
    "        #print('Sorry, you chose the goat. Try again next time!')  "
   ]
  },
  {
   "cell_type": "code",
   "execution_count": 31,
   "id": "cc2f7f97",
   "metadata": {},
   "outputs": [],
   "source": [
    "num_trials=1000\n",
    "results = np.zeros(shape=(num_trials,num_trials))"
   ]
  },
  {
   "cell_type": "code",
   "execution_count": 32,
   "id": "a6b1d707",
   "metadata": {},
   "outputs": [
    {
     "name": "stdout",
     "output_type": "stream",
     "text": [
      "[[0. 1. 1. ... 0. 1. 0.]\n",
      " [1. 1. 0. ... 1. 0. 1.]\n",
      " [1. 1. 1. ... 1. 0. 1.]\n",
      " ...\n",
      " [0. 1. 0. ... 1. 0. 0.]\n",
      " [0. 1. 1. ... 1. 1. 1.]\n",
      " [0. 1. 1. ... 1. 1. 1.]]\n"
     ]
    }
   ],
   "source": [
    "for i in range(len(results)):\n",
    "    for j in range(len(results)):\n",
    "        results[i][j] = auto_mhall_sim()\n",
    "print(results)"
   ]
  },
  {
   "cell_type": "code",
   "execution_count": 33,
   "id": "9600a171",
   "metadata": {},
   "outputs": [
    {
     "name": "stdout",
     "output_type": "stream",
     "text": [
      "[0.658 0.649 0.669 0.687 0.655 0.661 0.65  0.682 0.655 0.652 0.656 0.682\n",
      " 0.64  0.642 0.656 0.674 0.665 0.68  0.662 0.688 0.667 0.678 0.651 0.664\n",
      " 0.663 0.649 0.678 0.653 0.684 0.661 0.65  0.647 0.645 0.682 0.659 0.684\n",
      " 0.677 0.69  0.646 0.672 0.65  0.675 0.678 0.693 0.66  0.652 0.667 0.642\n",
      " 0.644 0.669 0.653 0.692 0.659 0.64  0.652 0.673 0.668 0.68  0.662 0.666\n",
      " 0.675 0.682 0.7   0.654 0.662 0.674 0.698 0.672 0.669 0.653 0.668 0.657\n",
      " 0.68  0.657 0.665 0.657 0.668 0.652 0.678 0.661 0.651 0.665 0.661 0.628\n",
      " 0.647 0.671 0.653 0.665 0.692 0.674 0.65  0.66  0.656 0.677 0.671 0.687\n",
      " 0.655 0.65  0.644 0.67  0.653 0.64  0.668 0.642 0.692 0.684 0.658 0.663\n",
      " 0.676 0.672 0.66  0.645 0.657 0.659 0.656 0.655 0.682 0.68  0.674 0.681\n",
      " 0.661 0.651 0.661 0.652 0.652 0.637 0.655 0.666 0.692 0.669 0.685 0.664\n",
      " 0.656 0.671 0.649 0.647 0.659 0.677 0.661 0.661 0.652 0.682 0.673 0.687\n",
      " 0.652 0.677 0.66  0.684 0.686 0.7   0.662 0.681 0.661 0.659 0.645 0.634\n",
      " 0.651 0.651 0.676 0.685 0.649 0.649 0.668 0.672 0.649 0.658 0.684 0.692\n",
      " 0.677 0.68  0.688 0.677 0.659 0.651 0.663 0.661 0.677 0.678 0.671 0.662\n",
      " 0.658 0.694 0.679 0.657 0.697 0.655 0.657 0.665 0.676 0.696 0.668 0.673\n",
      " 0.651 0.675 0.671 0.658 0.676 0.676 0.65  0.675 0.668 0.648 0.68  0.691\n",
      " 0.66  0.67  0.666 0.655 0.695 0.653 0.654 0.679 0.663 0.639 0.681 0.666\n",
      " 0.677 0.67  0.674 0.664 0.665 0.667 0.686 0.665 0.659 0.676 0.696 0.671\n",
      " 0.685 0.642 0.658 0.689 0.656 0.67  0.655 0.666 0.687 0.684 0.696 0.676\n",
      " 0.668 0.655 0.68  0.661 0.639 0.645 0.669 0.665 0.658 0.658 0.697 0.69\n",
      " 0.652 0.671 0.674 0.661 0.642 0.663 0.672 0.67  0.672 0.651 0.66  0.672\n",
      " 0.65  0.66  0.658 0.67  0.656 0.688 0.681 0.67  0.643 0.653 0.679 0.664\n",
      " 0.652 0.667 0.686 0.699 0.67  0.649 0.647 0.67  0.652 0.667 0.635 0.684\n",
      " 0.662 0.679 0.675 0.664 0.685 0.673 0.671 0.65  0.651 0.666 0.659 0.643\n",
      " 0.634 0.654 0.665 0.652 0.661 0.679 0.685 0.69  0.657 0.677 0.633 0.684\n",
      " 0.689 0.675 0.665 0.662 0.673 0.691 0.645 0.661 0.653 0.658 0.678 0.671\n",
      " 0.657 0.663 0.637 0.656 0.68  0.659 0.679 0.681 0.654 0.658 0.676 0.653\n",
      " 0.67  0.663 0.669 0.67  0.681 0.665 0.658 0.664 0.683 0.667 0.664 0.664\n",
      " 0.675 0.677 0.648 0.695 0.677 0.679 0.684 0.66  0.643 0.653 0.626 0.689\n",
      " 0.652 0.673 0.648 0.653 0.672 0.656 0.654 0.647 0.661 0.67  0.666 0.671\n",
      " 0.666 0.666 0.655 0.674 0.698 0.675 0.675 0.664 0.672 0.664 0.683 0.683\n",
      " 0.679 0.644 0.631 0.68  0.645 0.656 0.671 0.677 0.663 0.683 0.669 0.679\n",
      " 0.681 0.672 0.657 0.647 0.663 0.659 0.66  0.659 0.648 0.678 0.653 0.674\n",
      " 0.674 0.665 0.658 0.662 0.681 0.685 0.659 0.662 0.65  0.666 0.688 0.639\n",
      " 0.656 0.673 0.646 0.656 0.67  0.678 0.663 0.677 0.685 0.673 0.691 0.649\n",
      " 0.668 0.67  0.67  0.679 0.676 0.672 0.674 0.692 0.66  0.67  0.681 0.658\n",
      " 0.673 0.676 0.658 0.661 0.645 0.68  0.67  0.67  0.67  0.662 0.679 0.66\n",
      " 0.686 0.694 0.67  0.665 0.664 0.672 0.657 0.666 0.637 0.641 0.67  0.666\n",
      " 0.659 0.661 0.687 0.654 0.669 0.666 0.659 0.65  0.649 0.667 0.665 0.68\n",
      " 0.673 0.636 0.678 0.677 0.677 0.699 0.678 0.689 0.688 0.681 0.668 0.67\n",
      " 0.675 0.657 0.666 0.652 0.686 0.647 0.701 0.636 0.68  0.676 0.662 0.691\n",
      " 0.663 0.703 0.659 0.653 0.663 0.678 0.673 0.653 0.671 0.666 0.642 0.676\n",
      " 0.654 0.671 0.684 0.674 0.691 0.676 0.653 0.678 0.655 0.672 0.665 0.65\n",
      " 0.658 0.644 0.683 0.673 0.666 0.661 0.687 0.663 0.641 0.651 0.645 0.671\n",
      " 0.651 0.675 0.653 0.659 0.689 0.655 0.675 0.662 0.665 0.653 0.675 0.677\n",
      " 0.638 0.695 0.671 0.677 0.671 0.673 0.656 0.653 0.671 0.663 0.676 0.676\n",
      " 0.66  0.655 0.673 0.641 0.67  0.672 0.659 0.68  0.687 0.66  0.67  0.678\n",
      " 0.653 0.642 0.692 0.644 0.682 0.678 0.643 0.667 0.668 0.665 0.67  0.659\n",
      " 0.677 0.674 0.672 0.64  0.692 0.693 0.658 0.657 0.66  0.665 0.666 0.644\n",
      " 0.657 0.666 0.681 0.678 0.65  0.679 0.701 0.656 0.644 0.662 0.663 0.667\n",
      " 0.672 0.656 0.669 0.657 0.651 0.674 0.632 0.662 0.664 0.683 0.668 0.653\n",
      " 0.686 0.668 0.662 0.665 0.649 0.673 0.661 0.676 0.672 0.657 0.672 0.691\n",
      " 0.668 0.653 0.676 0.661 0.656 0.656 0.688 0.679 0.676 0.662 0.681 0.699\n",
      " 0.672 0.677 0.662 0.652 0.68  0.68  0.652 0.668 0.667 0.643 0.667 0.646\n",
      " 0.671 0.669 0.695 0.683 0.674 0.676 0.629 0.668 0.676 0.672 0.663 0.681\n",
      " 0.669 0.648 0.659 0.69  0.658 0.667 0.637 0.651 0.633 0.676 0.667 0.651\n",
      " 0.672 0.698 0.647 0.665 0.678 0.649 0.668 0.674 0.673 0.649 0.68  0.652\n",
      " 0.661 0.65  0.662 0.661 0.647 0.627 0.691 0.671 0.652 0.684 0.667 0.665\n",
      " 0.661 0.669 0.671 0.672 0.661 0.641 0.658 0.655 0.678 0.673 0.675 0.651\n",
      " 0.668 0.669 0.663 0.658 0.657 0.676 0.661 0.694 0.677 0.693 0.662 0.638\n",
      " 0.657 0.663 0.673 0.655 0.658 0.642 0.654 0.662 0.65  0.664 0.672 0.629\n",
      " 0.652 0.672 0.66  0.658 0.672 0.68  0.687 0.671 0.668 0.674 0.678 0.636\n",
      " 0.641 0.644 0.664 0.691 0.689 0.653 0.673 0.643 0.666 0.665 0.68  0.662\n",
      " 0.672 0.661 0.677 0.666 0.67  0.649 0.674 0.672 0.652 0.663 0.654 0.657\n",
      " 0.656 0.66  0.663 0.648 0.647 0.637 0.665 0.665 0.676 0.684 0.636 0.671\n",
      " 0.697 0.703 0.644 0.676 0.645 0.651 0.68  0.671 0.671 0.651 0.649 0.68\n",
      " 0.621 0.675 0.676 0.637 0.684 0.673 0.656 0.644 0.678 0.689 0.665 0.684\n",
      " 0.65  0.664 0.645 0.638 0.687 0.65  0.672 0.663 0.631 0.673 0.678 0.682\n",
      " 0.676 0.657 0.655 0.669 0.678 0.683 0.676 0.659 0.695 0.669 0.667 0.667\n",
      " 0.674 0.67  0.621 0.643 0.665 0.688 0.68  0.646 0.666 0.659 0.644 0.662\n",
      " 0.634 0.687 0.661 0.666 0.661 0.659 0.647 0.656 0.652 0.69  0.664 0.665\n",
      " 0.664 0.696 0.663 0.669 0.672 0.674 0.66  0.657 0.671 0.672 0.642 0.687\n",
      " 0.697 0.715 0.658 0.653 0.664 0.672 0.678 0.675 0.662 0.698 0.692 0.656\n",
      " 0.674 0.663 0.668 0.661 0.672 0.662 0.653 0.666 0.681 0.71  0.663 0.66\n",
      " 0.686 0.665 0.647 0.678 0.649 0.658 0.675 0.675 0.655 0.665 0.656 0.669\n",
      " 0.686 0.697 0.679 0.674 0.663 0.691 0.676 0.641 0.66  0.676 0.681 0.671\n",
      " 0.685 0.661 0.669 0.675 0.664 0.675 0.676 0.662 0.667 0.696 0.66  0.654\n",
      " 0.671 0.647 0.664 0.682 0.662 0.66  0.669 0.672 0.662 0.664 0.672 0.658\n",
      " 0.649 0.645 0.658 0.664 0.66  0.666 0.69  0.654 0.669 0.662 0.675 0.689\n",
      " 0.699 0.666 0.679 0.681 0.661 0.66  0.663 0.668 0.668 0.666 0.674 0.632\n",
      " 0.663 0.655 0.671 0.648 0.663 0.674 0.686 0.676 0.653 0.682 0.67  0.65\n",
      " 0.662 0.635 0.682 0.653 0.667 0.652 0.674 0.662 0.67  0.67  0.666 0.649\n",
      " 0.69  0.656 0.679 0.668]\n",
      "0.621\n",
      "0.715\n"
     ]
    }
   ],
   "source": [
    "winners = np.mean(results,axis=1)\n",
    "print(winners)\n",
    "print(min(winners))\n",
    "print(max(winners))"
   ]
  },
  {
   "cell_type": "code",
   "execution_count": 35,
   "id": "f0faa025",
   "metadata": {},
   "outputs": [
    {
     "data": {
      "text/plain": [
       "(array([  4.,   9.,  21.,  52.,  93., 124., 156., 175., 152.,  95.,  57.,\n",
       "         41.,  17.,   2.,   2.]),\n",
       " array([0.621     , 0.62726667, 0.63353333, 0.6398    , 0.64606667,\n",
       "        0.65233333, 0.6586    , 0.66486667, 0.67113333, 0.6774    ,\n",
       "        0.68366667, 0.68993333, 0.6962    , 0.70246667, 0.70873333,\n",
       "        0.715     ]),\n",
       " <BarContainer object of 15 artists>)"
      ]
     },
     "execution_count": 35,
     "metadata": {},
     "output_type": "execute_result"
    },
    {
     "data": {
      "image/png": "[encoded data removed]",
      "text/plain": [
       "<Figure size 432x288 with 1 Axes>"
      ]
     },
     "metadata": {
      "needs_background": "light"
     },
     "output_type": "display_data"
    }
   ],
   "source": [
    "import matplotlib.pyplot as plt\n",
    "plt.hist(winners,bins=15,range=(0.621,0.715))"
   ]
  },
  {
   "cell_type": "code",
   "execution_count": 36,
   "id": "5b3700e5",
   "metadata": {},
   "outputs": [
    {
     "name": "stdout",
     "output_type": "stream",
     "text": [
      "0.621\n",
      "0.715\n",
      "0.666154\n",
      "0.666\n",
      "0.014636675988761925\n"
     ]
    }
   ],
   "source": [
    "print(min(winners))\n",
    "print(max(winners))\n",
    "print(np.mean(winners))\n",
    "print(np.median(winners))\n",
    "print(np.std(winners))"
   ]
  },
  {
   "cell_type": "code",
   "execution_count": 255,
   "id": "916d0d21",
   "metadata": {},
   "outputs": [],
   "source": [
    "results_false = np.zeros(shape=(num_trials,num_trials))"
   ]
  },
  {
   "cell_type": "code",
   "execution_count": 260,
   "id": "e615d93b",
   "metadata": {},
   "outputs": [
    {
     "name": "stdout",
     "output_type": "stream",
     "text": [
      "[[1. 1. 0. ... 0. 0. 0.]\n",
      " [0. 0. 0. ... 0. 0. 1.]\n",
      " [0. 0. 0. ... 1. 0. 0.]\n",
      " ...\n",
      " [0. 1. 0. ... 1. 1. 1.]\n",
      " [0. 1. 1. ... 0. 0. 0.]\n",
      " [1. 1. 0. ... 1. 1. 0.]]\n"
     ]
    }
   ],
   "source": [
    "for i in range(len(results_false)):\n",
    "    for j in range(len(results_false)):\n",
    "        results_false[i][j] = auto_mhall_sim_switch_false()\n",
    "print(results_false)"
   ]
  },
  {
   "cell_type": "code",
   "execution_count": 261,
   "id": "4c6806e1",
   "metadata": {},
   "outputs": [
    {
     "name": "stdout",
     "output_type": "stream",
     "text": [
      "[0.4  0.26 0.32 0.27 0.4  0.17 0.29 0.35 0.36 0.32 0.32 0.35 0.32 0.34\n",
      " 0.33 0.32 0.34 0.36 0.36 0.32 0.3  0.27 0.35 0.28 0.32 0.35 0.34 0.38\n",
      " 0.37 0.24 0.28 0.34 0.29 0.33 0.23 0.35 0.39 0.32 0.36 0.38 0.27 0.4\n",
      " 0.31 0.28 0.28 0.38 0.35 0.27 0.34 0.28 0.36 0.37 0.31 0.33 0.35 0.33\n",
      " 0.33 0.37 0.32 0.41 0.38 0.38 0.33 0.33 0.32 0.38 0.38 0.35 0.36 0.29\n",
      " 0.32 0.35 0.34 0.31 0.41 0.33 0.28 0.38 0.31 0.29 0.31 0.3  0.32 0.28\n",
      " 0.31 0.39 0.35 0.32 0.36 0.34 0.32 0.41 0.35 0.35 0.3  0.35 0.27 0.41\n",
      " 0.35 0.33]\n",
      "0.17\n",
      "0.41\n"
     ]
    }
   ],
   "source": [
    "winners_false = np.mean(results_false,axis=1)\n",
    "print(winners_false)\n",
    "print(min(winners_false))\n",
    "print(max(winners_false))"
   ]
  },
  {
   "cell_type": "code",
   "execution_count": 262,
   "id": "59d49731",
   "metadata": {},
   "outputs": [
    {
     "data": {
      "text/plain": [
       "(array([ 1.,  0.,  0.,  1.,  1.,  1., 12.,  4.,  9., 14., 16., 21.,  3.,\n",
       "        10.,  7.]),\n",
       " array([0.17 , 0.186, 0.202, 0.218, 0.234, 0.25 , 0.266, 0.282, 0.298,\n",
       "        0.314, 0.33 , 0.346, 0.362, 0.378, 0.394, 0.41 ]),\n",
       " <BarContainer object of 15 artists>)"
      ]
     },
     "execution_count": 262,
     "metadata": {},
     "output_type": "execute_result"
    },
    {
     "data": {
      "image/png": "[encoded data removed]",
      "text/plain": [
       "<Figure size 432x288 with 1 Axes>"
      ]
     },
     "metadata": {
      "needs_background": "light"
     },
     "output_type": "display_data"
    }
   ],
   "source": [
    "plt.hist(winners_false,bins=15,range=(0.17,0.41))"
   ]
  },
  {
   "cell_type": "code",
   "execution_count": 267,
   "id": "0da1fc17",
   "metadata": {},
   "outputs": [
    {
     "name": "stdout",
     "output_type": "stream",
     "text": [
      "0.17\n",
      "0.41\n",
      "0.33149999999999996\n",
      "0.33\n",
      "0.042623350407963\n"
     ]
    }
   ],
   "source": [
    "print(min(winners_false))\n",
    "print(max(winners_false))\n",
    "print(np.mean(winners_false))\n",
    "print(np.median(winners_false))\n",
    "print(np.std(winners_false))"
   ]
  },
  {
   "cell_type": "markdown",
   "id": "ff26b410",
   "metadata": {},
   "source": [
    "## Exercise 7 -- Conclusion¶\n",
    "1. Based on your observations from Exercise 6, what do you estimate the probability of winning if the player chooses to switch vs. choosing to stay?\n",
    "2. Should the player switch doors or stay with their initial guess?"
   ]
  },
  {
   "cell_type": "markdown",
   "id": "4b833455",
   "metadata": {},
   "source": [
    "1. The probabilty of winning when switching is on average approximately 0.665 and when staying it is 0.331\n",
    "2. The player should always switch since it gives them an approximately 2/3 chance of winning the prize."
   ]
  },
  {
   "cell_type": "code",
   "execution_count": null,
   "id": "dfce1f0f",
   "metadata": {},
   "outputs": [],
   "source": []
  }
 ],
 "metadata": {
  "kernelspec": {
   "display_name": "Python 3 (ipykernel)",
   "language": "python",
   "name": "python3"
  },
  "language_info": {
   "codemirror_mode": {
    "name": "ipython",
    "version": 3
   },
   "file_extension": ".py",
   "mimetype": "text/x-python",
   "name": "python",
   "nbconvert_exporter": "python",
   "pygments_lexer": "ipython3",
   "version": "3.8.10"
  }
 },
 "nbformat": 4,
 "nbformat_minor": 5
}
